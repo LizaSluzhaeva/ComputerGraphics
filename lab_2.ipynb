{
 "cells": [
  {
   "cell_type": "markdown",
   "metadata": {
    "collapsed": true,
    "pycharm": {
     "name": "#%% md\n"
    }
   },
   "source": [
    "Вычисление барицентрических координат"
   ]
  },
  {
   "cell_type": "code",
   "outputs": [
    {
     "name": "stdout",
     "output_type": "stream",
     "text": [
      "lambda0 + lambda1 + lambda2 = 0.9999999999999999\n"
     ]
    }
   ],
   "source": [
    "from core import barisentrik_coordinates\n",
    "\n",
    "v = 1, 2\n",
    "v0 = 0.5, 0.5\n",
    "v1 = 1.0, 3.5\n",
    "v2 = 2.5, 0.7\n",
    "f = (v0, v1, v2)\n",
    "\n",
    "lambda0, lambda1, lambda2 = barisentrik_coordinates(v, f)\n",
    "\n",
    "print(f'lambda0 + lambda1 + lambda2 = {lambda0 + lambda1 + lambda2}')"
   ],
   "metadata": {
    "collapsed": false,
    "pycharm": {
     "name": "#%%\n"
    }
   },
   "execution_count": 35
  },
  {
   "cell_type": "markdown",
   "source": [
    "Отрисовка треугольников"
   ],
   "metadata": {
    "collapsed": false,
    "pycharm": {
     "name": "#%% md\n"
    }
   }
  },
  {
   "cell_type": "code",
   "outputs": [],
   "source": [
    "from type import Obj2DFace, Color\n",
    "from core import CustomImage, suitable_pixels\n",
    "from names import WHITE\n",
    "\n",
    "def draw_face(_f: Obj2DFace, _img: CustomImage, color: Color):\n",
    "    for _v in suitable_pixels(_f, _img):\n",
    "        l0, l1, l2 = barisentrik_coordinates(_v, _f)\n",
    "        if l0 > 0 and l1 > 0 and l2 > 0:\n",
    "            _img.set(_v, color)\n",
    "\n",
    "v0 = -5.5, 5.5\n",
    "v1 = 25.5, 5.5\n",
    "v2 = 10, 25.5\n",
    "img = CustomImage(20, 20)\n",
    "draw_face((v0, v1, v2), img, WHITE)\n",
    "img.save('pictures/triangles/triangle_1.png')\n",
    "\n",
    "v0 = 5.5, 5.5\n",
    "v1 = 14.5, 5.5\n",
    "v2 = 10, 14.5\n",
    "img = CustomImage(20, 20)\n",
    "draw_face((v0, v1, v2), img, WHITE)\n",
    "img.save('pictures/triangles/triangle_2.png')\n",
    "\n",
    "v0 = 5.5, 5.5\n",
    "v1 = 16.5, 5.5\n",
    "v2 = 16.5, 25.5\n",
    "img = CustomImage(20, 20)\n",
    "draw_face((v0, v1, v2), img, WHITE)\n",
    "img.save('pictures/triangles/triangle_3.png')"
   ],
   "metadata": {
    "collapsed": false,
    "pycharm": {
     "name": "#%%\n"
    }
   },
   "execution_count": 36
  },
  {
   "cell_type": "markdown",
   "source": [
    "Отрисовка полигонов трехмерной модели случайными цветами"
   ],
   "metadata": {
    "collapsed": false,
    "pycharm": {
     "name": "#%% md\n"
    }
   }
  },
  {
   "cell_type": "code",
   "outputs": [],
   "source": [
    "from core import CustomImage, ObjModel\n",
    "from names import FOX, DEER\n",
    "from typing import Callable\n",
    "from type import ObjVertex\n",
    "from random import randint\n",
    "\n",
    "\n",
    "def draw_visible_faces(obj: ObjModel, _img: CustomImage, transformation: Callable[[ObjVertex], ObjVertex]):\n",
    "    for _v0, _v1, _v2 in obj.faces():\n",
    "        _v0 = transformation(_v0)\n",
    "        _v1 = transformation(_v1)\n",
    "        _v2 = transformation(_v2)\n",
    "\n",
    "        x0, y0, z0 = _v0\n",
    "        x1, y1, z1 = _v1\n",
    "        x2, y2, z2 = _v2\n",
    "\n",
    "        _v0 = x0, y0\n",
    "        _v1 = x1, y1\n",
    "        _v2 = x2, y2\n",
    "\n",
    "        _f = (_v0, _v1, _v2)\n",
    "\n",
    "        color = (randint(0, 255), randint(0, 255), randint(0, 255))\n",
    "\n",
    "        for _v in suitable_pixels(_f, _img):\n",
    "            l0, l1, l2 = barisentrik_coordinates(_v, _f)\n",
    "            if l0 >= 0 and l1 >= 0 and l2 >= 0:\n",
    "                _img.set(_v, color)\n",
    "\n",
    "\n",
    "fox_obj = ObjModel(FOX)\n",
    "deer_obj = ObjModel(DEER)\n",
    "\n",
    "img = CustomImage(400, 800)\n",
    "draw_visible_faces(fox_obj, img, lambda _v: (7 * _v[0] + 200, 7 * -_v[1] + 700, 7 * _v[2]))\n",
    "img.save('pictures/faces/fox_rainbow.png')\n",
    "\n",
    "img = CustomImage(1500, 1500)\n",
    "draw_visible_faces(deer_obj, img, lambda _v: (_v[0] + 800, -_v[1] + 1500, _v[2]))\n",
    "img.save('pictures/faces/deer_rainbow.png')"
   ],
   "metadata": {
    "collapsed": false,
    "pycharm": {
     "name": "#%%\n"
    }
   },
   "execution_count": 37
  },
  {
   "cell_type": "markdown",
   "source": [
    "Отсечение нелицевых граней"
   ],
   "metadata": {
    "collapsed": false,
    "pycharm": {
     "name": "#%% md\n"
    }
   }
  },
  {
   "cell_type": "code",
   "outputs": [],
   "source": [
    "from core import CustomImage, ObjModel, face_angle_cos\n",
    "from names import FOX, DEER\n",
    "from typing import Callable\n",
    "from type import ObjVertex\n",
    "from random import randint\n",
    "\n",
    "\n",
    "def draw_visible_faces(obj: ObjModel, _img: CustomImage, transform: Callable[[ObjVertex], ObjVertex]):\n",
    "    for _f in obj.faces():\n",
    "        _v0, _v1, _v2 = _f\n",
    "\n",
    "        _v0 = transform(_v0)\n",
    "        _v1 = transform(_v1)\n",
    "        _v2 = transform(_v2)\n",
    "\n",
    "        cos = face_angle_cos(_f)\n",
    "        if cos > 0:\n",
    "            continue\n",
    "\n",
    "        x0, y0, z0 = _v0\n",
    "        x1, y1, z1 = _v1\n",
    "        x2, y2, z2 = _v2\n",
    "\n",
    "        _v0 = x0, y0\n",
    "        _v1 = x1, y1\n",
    "        _v2 = x2, y2\n",
    "\n",
    "        _f = _v0, _v1, _v2\n",
    "\n",
    "        color = (randint(0, 255), randint(0, 255), randint(0, 255))\n",
    "\n",
    "        for _v in suitable_pixels(_f, _img):\n",
    "            l0, l1, l2 = barisentrik_coordinates(_v, _f)\n",
    "            if l0 >= 0 and l1 >= 0 and l2 >= 0:\n",
    "                _img.set(_v, color)\n",
    "\n",
    "\n",
    "fox_obj = ObjModel(FOX)\n",
    "deer_obj = ObjModel(DEER)\n",
    "\n",
    "img = CustomImage(400, 800)\n",
    "draw_visible_faces(fox_obj, img, lambda _v: (7 * _v[0] + 200, 7 * -_v[1] + 700, 7 * _v[2]))\n",
    "img.save('pictures/faces/fox_rainbow_ext.png')\n",
    "\n",
    "img = CustomImage(1500, 1500)\n",
    "draw_visible_faces(deer_obj, img, lambda _v: (_v[0] + 800, -_v[1] + 1500, _v[2]))\n",
    "img.save('pictures/faces/deer_rainbow_ext.png')"
   ],
   "metadata": {
    "collapsed": false,
    "pycharm": {
     "name": "#%%\n"
    }
   },
   "execution_count": 38
  },
  {
   "cell_type": "markdown",
   "source": [
    "Базовое освещение"
   ],
   "metadata": {
    "collapsed": false,
    "pycharm": {
     "name": "#%% md\n"
    }
   }
  },
  {
   "cell_type": "code",
   "outputs": [],
   "source": [
    "from core import CustomImage, ObjModel, face_angle_cos, intensity_color\n",
    "from names import FOX, DEER\n",
    "from typing import Callable\n",
    "from type import ObjVertex\n",
    "\n",
    "def draw_visible_faces(obj: ObjModel, _img: CustomImage, transform: Callable[[ObjVertex], ObjVertex]):\n",
    "    for _f in obj.faces():\n",
    "        _v0, _v1, _v2 = _f\n",
    "\n",
    "        _v0 = transform(_v0)\n",
    "        _v1 = transform(_v1)\n",
    "        _v2 = transform(_v2)\n",
    "\n",
    "        cos = face_angle_cos(_f)\n",
    "        if cos > 0:\n",
    "            continue\n",
    "\n",
    "        x0, y0, z0 = _v0\n",
    "        x1, y1, z1 = _v1\n",
    "        x2, y2, z2 = _v2\n",
    "\n",
    "        _v0 = x0, y0\n",
    "        _v1 = x1, y1\n",
    "        _v2 = x2, y2\n",
    "\n",
    "        _f = _v0, _v1, _v2\n",
    "\n",
    "        color = intensity_color(WHITE, cos)\n",
    "\n",
    "        for _v in suitable_pixels(_f, _img):\n",
    "            l0, l1, l2 = barisentrik_coordinates(_v, _f)\n",
    "            if l0 >= 0 and l1 >= 0 and l2 >= 0:\n",
    "                _img.set(_v, color)\n",
    "\n",
    "\n",
    "fox_obj = ObjModel(FOX)\n",
    "deer_obj = ObjModel(DEER)\n",
    "\n",
    "img = CustomImage(400, 800)\n",
    "draw_visible_faces(fox_obj, img, lambda _v: (7 * _v[0] + 200, 7 * -_v[1] + 700, 7 * _v[2]))\n",
    "img.save('pictures/faces/fox_basic_lighting.png')\n",
    "\n",
    "img = CustomImage(1500, 1500)\n",
    "draw_visible_faces(deer_obj, img, lambda _v: (_v[0] + 800, -_v[1] + 1500, _v[2]))\n",
    "img.save('pictures/faces/deer_basic_lighting.png')"
   ],
   "metadata": {
    "collapsed": false,
    "pycharm": {
     "name": "#%%\n"
    }
   },
   "execution_count": 39
  },
  {
   "cell_type": "markdown",
   "source": [
    "z-буфер"
   ],
   "metadata": {
    "collapsed": false,
    "pycharm": {
     "name": "#%% md\n"
    }
   }
  },
  {
   "cell_type": "code",
   "outputs": [],
   "source": [
    "from core import CustomImage, ObjModel, face_angle_cos, barisentrik_coordinates, init_z_buffer, intensity_color\n",
    "from names import FOX, DEER\n",
    "from typing import Callable\n",
    "from type import ObjVertex\n",
    "\n",
    "def draw_visible_faces(obj: ObjModel, _img: CustomImage, transform: Callable[[ObjVertex], ObjVertex]):\n",
    "    z_buffer = init_z_buffer(_img)\n",
    "\n",
    "    for _f in obj.faces():\n",
    "        _v0, _v1, _v2 = _f\n",
    "\n",
    "        _v0 = transform(_v0)\n",
    "        _v1 = transform(_v1)\n",
    "        _v2 = transform(_v2)\n",
    "\n",
    "        cos = face_angle_cos(_f)\n",
    "        if cos > 0:\n",
    "            continue\n",
    "\n",
    "        x0, y0, z0 = _v0\n",
    "        x1, y1, z1 = _v1\n",
    "        x2, y2, z2 = _v2\n",
    "\n",
    "        _v0 = x0, y0\n",
    "        _v1 = x1, y1\n",
    "        _v2 = x2, y2\n",
    "\n",
    "        _f = _v0, _v1, _v2\n",
    "\n",
    "        color = intensity_color(WHITE, cos)\n",
    "\n",
    "        for _v in suitable_pixels(_f, _img):\n",
    "            i, j = _v\n",
    "            l0, l1, l2 = barisentrik_coordinates(_v, _f)\n",
    "            if l0 >= 0 and l1 >= 0 and l2 >= 0:\n",
    "                z = l0 * z0 + l1 * z1 + l2 * z2\n",
    "                if z < z_buffer[i][j]:\n",
    "                    _img.set(_v, color)\n",
    "                    z_buffer[i][j] = z\n",
    "\n",
    "\n",
    "fox_obj = ObjModel(FOX)\n",
    "deer_obj = ObjModel(DEER)\n",
    "\n",
    "img = CustomImage(400, 800)\n",
    "draw_visible_faces(fox_obj, img, lambda _v: (7 * _v[0] + 200, 7 * -_v[1] + 700, 7 * _v[2]))\n",
    "img.save('pictures/faces/fox_z_buffer.png')\n",
    "\n",
    "img = CustomImage(1500, 1500)\n",
    "draw_visible_faces(deer_obj, img, lambda _v: (_v[0] + 800, -_v[1] + 1500, _v[2] + 1000))\n",
    "img.save('pictures/faces/deer_z_buffer.png')"
   ],
   "metadata": {
    "collapsed": false,
    "pycharm": {
     "name": "#%%\n"
    }
   },
   "execution_count": 44
  }
 ],
 "metadata": {
  "kernelspec": {
   "display_name": "Python 3",
   "language": "python",
   "name": "python3"
  },
  "language_info": {
   "codemirror_mode": {
    "name": "ipython",
    "version": 2
   },
   "file_extension": ".py",
   "mimetype": "text/x-python",
   "name": "python",
   "nbconvert_exporter": "python",
   "pygments_lexer": "ipython2",
   "version": "2.7.6"
  }
 },
 "nbformat": 4,
 "nbformat_minor": 0
}