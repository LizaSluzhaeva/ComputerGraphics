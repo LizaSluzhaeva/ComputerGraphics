{
 "cells": [
  {
   "cell_type": "markdown",
   "metadata": {
    "collapsed": true,
    "pycharm": {
     "name": "#%% md\n"
    }
   },
   "source": [
    "Вычисление барицентрических координат"
   ]
  },
  {
   "cell_type": "code",
   "outputs": [
    {
     "name": "stdout",
     "output_type": "stream",
     "text": [
      "lambda0 + lambda1 + lambda2 = 0.9999999999999999\n"
     ]
    }
   ],
   "source": [
    "from core import barisentrik_coordinates\n",
    "\n",
    "_v = 1, 2\n",
    "_v0 = 0.5, 0.5\n",
    "_v1 = 1.0, 3.5\n",
    "_v2 = 2.5, 0.7\n",
    "\n",
    "lambda0, lambda1, lambda2 = barisentrik_coordinates(_v, _v0, _v1, _v2)\n",
    "\n",
    "print(f'lambda0 + lambda1 + lambda2 = {lambda0 + lambda1 + lambda2}')"
   ],
   "metadata": {
    "collapsed": false,
    "pycharm": {
     "name": "#%%\n"
    }
   }
  },
  {
   "cell_type": "markdown",
   "source": [
    "Отрисовка треугольников"
   ],
   "metadata": {
    "collapsed": false,
    "pycharm": {
     "name": "#%% md\n"
    }
   }
  },
  {
   "cell_type": "code",
   "outputs": [],
   "source": [
    "from core import CustomImage, draw_face\n",
    "from names import WHITE\n",
    "\n",
    "_v0 = -5.5, 5.5\n",
    "_v1 = 25.5, 5.5\n",
    "_v2 = 10, 25.5\n",
    "img = CustomImage(20, 20)\n",
    "draw_face((_v0, _v1, _v2), img, WHITE)\n",
    "img.save('pictures/triangles/triangle_1.png')\n",
    "\n",
    "_v0 = 5.5, 5.5\n",
    "_v1 = 14.5, 5.5\n",
    "_v2 = 10, 14.5\n",
    "img = CustomImage(20, 20)\n",
    "draw_face((_v0, _v1, _v2), img, WHITE)\n",
    "img.save('pictures/triangles/triangle_2.png')\n",
    "\n",
    "_v0 = 5.5, 5.5\n",
    "_v1 = 16.5, 5.5\n",
    "_v2 = 16.5, 25.5\n",
    "img = CustomImage(20, 20)\n",
    "draw_face((_v0, _v1, _v2), img, WHITE)\n",
    "img.save('pictures/triangles/triangle_3.png')"
   ],
   "metadata": {
    "collapsed": false,
    "pycharm": {
     "name": "#%%\n"
    }
   }
  },
  {
   "cell_type": "markdown",
   "source": [
    "Отрисовка полигонов трехмерной модели"
   ],
   "metadata": {
    "collapsed": false,
    "pycharm": {
     "name": "#%% md\n"
    }
   }
  },
  {
   "cell_type": "code",
   "outputs": [],
   "source": [
    "from core import CustomImage, ObjModel, draw_face\n",
    "from names import FOX, DEER\n",
    "from typing import Callable\n",
    "from type import ObjVertex\n",
    "from random import randint\n",
    "\n",
    "\n",
    "def draw_visible_faces(obj: ObjModel, _img: CustomImage, transform: Callable[[ObjVertex], ObjVertex]):\n",
    "    for v0, v1, v2 in obj.faces():\n",
    "        v0 = transform(v0)\n",
    "        v1 = transform(v1)\n",
    "        v2 = transform(v2)\n",
    "\n",
    "        x0, y0, z0 = v0\n",
    "        x1, y1, z1 = v1\n",
    "        x2, y2, z2 = v2\n",
    "\n",
    "        v0 = x0, y0\n",
    "        v1 = x1, y1\n",
    "        v2 = x2, y2\n",
    "\n",
    "        color = (randint(0, 255), randint(0, 255), randint(0, 255))\n",
    "\n",
    "        draw_face((v0, v1, v2), img, color)\n",
    "\n",
    "\n",
    "fox_obj = ObjModel(FOX)\n",
    "deer_obj = ObjModel(DEER)\n",
    "\n",
    "img = CustomImage(1000, 1000)\n",
    "draw_visible_faces(fox_obj, img, lambda v: (4 * v[2] + 500, 4 * -v[1] + 500, 4 * v[0]))\n",
    "img.save('pictures/faces/fox_rainbow.png')\n",
    "\n",
    "img = CustomImage(1500, 1500)\n",
    "draw_visible_faces(deer_obj, img, lambda v: (v[0] + 800, -v[1] + 1500, v[2]))\n",
    "img.save('pictures/faces/deer_rainbow.png')"
   ],
   "metadata": {
    "collapsed": false,
    "pycharm": {
     "name": "#%%\n"
    }
   }
  },
  {
   "cell_type": "markdown",
   "source": [
    "Отсечение нелицевых граней"
   ],
   "metadata": {
    "collapsed": false,
    "pycharm": {
     "name": "#%% md\n"
    }
   }
  },
  {
   "cell_type": "code",
   "outputs": [],
   "source": [
    "from core import CustomImage, ObjModel, draw_face, face_angle_cos\n",
    "from names import FOX, DEER\n",
    "from typing import Callable\n",
    "from type import ObjVertex\n",
    "from random import randint\n",
    "\n",
    "\n",
    "def draw_visible_faces(obj: ObjModel, _img: CustomImage, transform: Callable[[ObjVertex], ObjVertex]):\n",
    "    for f in obj.faces():\n",
    "        v0, v1, v2 = f\n",
    "\n",
    "        v0 = transform(v0)\n",
    "        v1 = transform(v1)\n",
    "        v2 = transform(v2)\n",
    "\n",
    "        cos = face_angle_cos(f)\n",
    "        if cos >= 0:\n",
    "            continue\n",
    "\n",
    "        x0, y0, z0 = v0\n",
    "        x1, y1, z1 = v1\n",
    "        x2, y2, z2 = v2\n",
    "\n",
    "        v0 = x0, y0\n",
    "        v1 = x1, y1\n",
    "        v2 = x2, y2\n",
    "\n",
    "        f = v0, v1, v2\n",
    "\n",
    "        color = (randint(0, 255), randint(0, 255), randint(0, 255))\n",
    "\n",
    "        draw_face(f, img, color)\n",
    "\n",
    "\n",
    "fox_obj = ObjModel(FOX)\n",
    "deer_obj = ObjModel(DEER)\n",
    "\n",
    "img = CustomImage(1000, 1000)\n",
    "draw_visible_faces(fox_obj, img, lambda v: (4 * v[2] + 500, 4 * -v[1] + 500, 4 * v[0]))\n",
    "img.save('pictures/faces/fox_rainbow_ext.png')\n",
    "\n",
    "img = CustomImage(1500, 1500)\n",
    "draw_visible_faces(deer_obj, img, lambda v: (v[0] + 800, -v[1] + 1500, v[2]))\n",
    "img.save('pictures/faces/deer_rainbow_ext.png')"
   ],
   "metadata": {
    "collapsed": false,
    "pycharm": {
     "name": "#%%\n"
    }
   }
  },
  {
   "cell_type": "markdown",
   "source": [
    "Базовое освещение"
   ],
   "metadata": {
    "collapsed": false,
    "pycharm": {
     "name": "#%% md\n"
    }
   }
  },
  {
   "cell_type": "code",
   "outputs": [],
   "source": [
    "from core import CustomImage, ObjModel, draw_face, face_angle_cos\n",
    "from names import FOX, DEER\n",
    "from typing import Callable\n",
    "from type import ObjVertex\n",
    "\n",
    "\n",
    "def draw_visible_faces(obj: ObjModel, _img: CustomImage, transform: Callable[[ObjVertex], ObjVertex]):\n",
    "    for f in obj.faces():\n",
    "        v0, v1, v2 = f\n",
    "\n",
    "        v0 = transform(v0)\n",
    "        v1 = transform(v1)\n",
    "        v2 = transform(v2)\n",
    "\n",
    "        f = v0, v1, v2\n",
    "\n",
    "        cos = face_angle_cos(f)\n",
    "        if cos >= 0:\n",
    "            continue\n",
    "\n",
    "        x0, y0, z0 = v0\n",
    "        x1, y1, z1 = v1\n",
    "        x2, y2, z2 = v2\n",
    "\n",
    "        v0 = x0, y0\n",
    "        v1 = x1, y1\n",
    "        v2 = x2, y2\n",
    "\n",
    "        f = v0, v1, v2\n",
    "\n",
    "        val = round(255 * -cos)\n",
    "        color = (val, val, val)\n",
    "\n",
    "        draw_face(f, img, color)\n",
    "\n",
    "\n",
    "fox_obj = ObjModel(FOX)\n",
    "deer_obj = ObjModel(DEER)\n",
    "\n",
    "img = CustomImage(1000, 1000)\n",
    "draw_visible_faces(fox_obj, img, lambda v: (4 * v[2] + 500, 4 * -v[1] + 500, 4 * v[0]))\n",
    "img.save('pictures/faces/fox_basic_lighting.png')\n",
    "\n",
    "img = CustomImage(1500, 1500)\n",
    "draw_visible_faces(deer_obj, img, lambda v: (v[0] + 800, -v[1] + 1500, v[2]))\n",
    "img.save('pictures/faces/deer_basic_lighting.png')"
   ],
   "metadata": {
    "collapsed": false,
    "pycharm": {
     "name": "#%%\n"
    }
   }
  },
  {
   "cell_type": "markdown",
   "source": [
    "z-буфер"
   ],
   "metadata": {
    "collapsed": false,
    "pycharm": {
     "name": "#%% md\n"
    }
   }
  },
  {
   "cell_type": "code",
   "outputs": [],
   "source": [
    "from sys import float_info\n",
    "from core import CustomImage, ObjModel, face_angle_cos\n",
    "from names import FOX, DEER\n",
    "from typing import Callable\n",
    "from type import ObjVertex\n",
    "\n",
    "\n",
    "def draw_visible_faces(obj: ObjModel, _img: CustomImage, transform: Callable[[ObjVertex], ObjVertex]):\n",
    "    z_buffer = [[float_info.max for _ in range(_img.width())] for _ in range(_img.height())]\n",
    "    for f in obj.faces():\n",
    "        v0, v1, v2 = f\n",
    "\n",
    "        v0 = transform(v0)\n",
    "        v1 = transform(v1)\n",
    "        v2 = transform(v2)\n",
    "\n",
    "        f = v0, v1, v2\n",
    "\n",
    "        cos = face_angle_cos(f)\n",
    "        if cos > 0:\n",
    "            continue\n",
    "\n",
    "        x0, y0, z0 = v0\n",
    "        x1, y1, z1 = v1\n",
    "        x2, y2, z2 = v2\n",
    "\n",
    "        v0 = x0, y0\n",
    "        v1 = x1, y1\n",
    "        v2 = x2, y2\n",
    "\n",
    "        val = round(255 * -cos)\n",
    "        color = (val, val, val)\n",
    "\n",
    "        x_min = round(max(min(x0, x1, x2), 0))\n",
    "        y_min = round(max(min(y0, y1, y2), 0))\n",
    "        x_max = round(min(max(x0, x1, x2), _img.width() - 1))\n",
    "        y_max = round(min(max(y0, y1, y2), _img.height() - 1))\n",
    "\n",
    "        for i in range(x_min, x_max + 1):\n",
    "            for j in range(y_min, y_max + 1):\n",
    "                v = (i, j)\n",
    "                l0, l1, l2 = barisentrik_coordinates(v, v0, v1, v2)\n",
    "                if l0 > 0 and l1 > 0 and l2 > 0:\n",
    "                    z = l0 * z0 + l1 * z1 + l2 * z2\n",
    "                    if z < z_buffer[i][j]:\n",
    "                        _img.set(v, color)\n",
    "                        z_buffer[i][j] = z\n",
    "\n",
    "\n",
    "fox_obj = ObjModel(FOX)\n",
    "deer_obj = ObjModel(DEER)\n",
    "\n",
    "img = CustomImage(1000, 1000)\n",
    "draw_visible_faces(fox_obj, img, lambda v: (4 * v[2] + 500, 4 * -v[1] + 500, 4 * v[0] + 500))\n",
    "img.save('pictures/faces/fox_z_buffer.png')\n",
    "\n",
    "img = CustomImage(1500, 1500)\n",
    "draw_visible_faces(deer_obj, img, lambda v: (v[0] + 800, -v[1] + 1500, v[2] + 1000))\n",
    "img.save('pictures/faces/deer_z_buffer.png')"
   ],
   "metadata": {
    "collapsed": false,
    "pycharm": {
     "name": "#%%\n"
    }
   }
  }
 ],
 "metadata": {
  "kernelspec": {
   "display_name": "Python 3",
   "language": "python",
   "name": "python3"
  },
  "language_info": {
   "codemirror_mode": {
    "name": "ipython",
    "version": 2
   },
   "file_extension": ".py",
   "mimetype": "text/x-python",
   "name": "python",
   "nbconvert_exporter": "python",
   "pygments_lexer": "ipython2",
   "version": "2.7.6"
  }
 },
 "nbformat": 4,
 "nbformat_minor": 0
}