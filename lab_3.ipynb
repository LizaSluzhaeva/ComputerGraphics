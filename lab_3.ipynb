{
 "cells": [
  {
   "cell_type": "markdown",
   "metadata": {
    "collapsed": true,
    "pycharm": {
     "name": "#%% md\n"
    }
   },
   "source": [
    "Проективное преобразование\n"
   ]
  },
  {
   "cell_type": "code",
   "execution_count": 0,
   "outputs": [],
   "source": [
    "from type import ObjVertex\n",
    "from sys import float_info\n",
    "from core import CustomImage, ObjModel, face_angle_cos, barisentrik_coordinates\n",
    "from names import DEER, RABBIT\n",
    "\n",
    "\n",
    "def draw_faces(obj: ObjModel, _img: CustomImage, scale: tuple[float, float]):\n",
    "    z_buffer = [[float_info.max for _ in range(_img.width())] for _ in range(_img.height())]\n",
    "    img_x, img_y = _img.width() / 2, _img.height() / 2\n",
    "    ax, ay = scale\n",
    "\n",
    "    def transform(_v: ObjVertex) -> ObjVertex:\n",
    "        _x, _y, _z = _v\n",
    "        return (ax * _x + img_x * _z) / _z, (ay * _y + img_y * _z) / _z, _z\n",
    "\n",
    "    for k, f in enumerate(obj.faces()):\n",
    "        cos = face_angle_cos(f)\n",
    "        if cos > 0:\n",
    "            continue\n",
    "\n",
    "        val = round(255 * -cos)\n",
    "        color = (val, val, val)\n",
    "\n",
    "        v0, v1, v2 = f\n",
    "\n",
    "        v0 = transform(v0)\n",
    "        v1 = transform(v1)\n",
    "        v2 = transform(v2)\n",
    "\n",
    "        x0, y0, z0 = v0\n",
    "        x1, y1, z1 = v1\n",
    "        x2, y2, z2 = v2\n",
    "\n",
    "        v0 = x0, y0\n",
    "        v1 = x1, y1\n",
    "        v2 = x2, y2\n",
    "\n",
    "        x_min = round(max(min(x0, x1, x2), 0))\n",
    "        y_min = round(max(min(y0, y1, y2), 0))\n",
    "        x_max = round(min(max(x0, x1, x2), _img.width() - 1))\n",
    "        y_max = round(min(max(y0, y1, y2), _img.height() - 1))\n",
    "\n",
    "        for i in range(x_min, x_max + 1):\n",
    "            for j in range(y_min, y_max + 1):\n",
    "                v = (i, j)\n",
    "                l0, l1, l2 = barisentrik_coordinates(v, v0, v1, v2)\n",
    "                if l0 > 0 and l1 > 0 and l2 > 0:\n",
    "                    z = l0 * z0 + l1 * z1 + l2 * z2\n",
    "                    if z < z_buffer[i][j]:\n",
    "                        _img.set(v, color)\n",
    "                        z_buffer[i][j] = z\n",
    "\n",
    "\n",
    "deer_obj = ObjModel(DEER)\n",
    "rabbit_obj = ObjModel(RABBIT)\n",
    "\n",
    "img = CustomImage(1500, 1500)\n",
    "deer_obj.shift((0, -800, 1000))\n",
    "draw_faces(deer_obj, img, (700, 700))\n",
    "img.save('pictures/faces/deer_projection.png')\n",
    "\n",
    "img = CustomImage(1000, 1000)\n",
    "rabbit_obj.shift((0.005, -0.045, 15.0))\n",
    "draw_faces(rabbit_obj, img, (100000, 100000))\n",
    "img.save('pictures/faces/rabbit_projection.png')"
   ],
   "metadata": {
    "collapsed": false,
    "pycharm": {
     "name": "#%%\n"
    }
   }
  },
  {
   "cell_type": "markdown",
   "source": [
    "Поворот модели"
   ],
   "metadata": {
    "collapsed": false,
    "pycharm": {
     "name": "#%% md\n"
    }
   }
  },
  {
   "cell_type": "code",
   "execution_count": 0,
   "outputs": [],
   "source": [
    "from type import ObjVertex\n",
    "from sys import float_info\n",
    "import math\n",
    "from core import CustomImage, ObjModel, face_angle_cos, barisentrik_coordinates\n",
    "from names import DEER, RABBIT\n",
    "\n",
    "\n",
    "def draw_faces(obj: ObjModel, _img: CustomImage, scale: tuple[float, float]):\n",
    "    z_buffer = [[float_info.max for _ in range(_img.width())] for _ in range(_img.height())]\n",
    "    img_x, img_y = _img.width() / 2, _img.height() / 2\n",
    "    ax, ay = scale\n",
    "\n",
    "    def transform(_v: ObjVertex) -> ObjVertex:\n",
    "        _x, _y, _z = _v\n",
    "        return (ax * _x + img_x * _z) / _z, (ay * _y + img_y * _z) / _z, _z\n",
    "\n",
    "    for k, f in enumerate(obj.faces()):\n",
    "        cos = face_angle_cos(f)\n",
    "        if cos > 0:\n",
    "            continue\n",
    "\n",
    "        val = round(255 * -cos)\n",
    "        color = (val, val, val)\n",
    "\n",
    "        v0, v1, v2 = f\n",
    "\n",
    "        v0 = transform(v0)\n",
    "        v1 = transform(v1)\n",
    "        v2 = transform(v2)\n",
    "\n",
    "        x0, y0, z0 = v0\n",
    "        x1, y1, z1 = v1\n",
    "        x2, y2, z2 = v2\n",
    "\n",
    "        v0 = x0, y0\n",
    "        v1 = x1, y1\n",
    "        v2 = x2, y2\n",
    "\n",
    "        x_min = round(max(min(x0, x1, x2), 0))\n",
    "        y_min = round(max(min(y0, y1, y2), 0))\n",
    "        x_max = round(min(max(x0, x1, x2), _img.width() - 1))\n",
    "        y_max = round(min(max(y0, y1, y2), _img.height() - 1))\n",
    "\n",
    "        for i in range(x_min, x_max + 1):\n",
    "            for j in range(y_min, y_max + 1):\n",
    "                v = (i, j)\n",
    "                l0, l1, l2 = barisentrik_coordinates(v, v0, v1, v2)\n",
    "                if l0 > 0 and l1 > 0 and l2 > 0:\n",
    "                    z = l0 * z0 + l1 * z1 + l2 * z2\n",
    "                    if z < z_buffer[i][j]:\n",
    "                        _img.set(v, color)\n",
    "                        z_buffer[i][j] = z\n",
    "\n",
    "\n",
    "deer_obj = ObjModel(DEER)\n",
    "rabbit_obj = ObjModel(RABBIT)\n",
    "\n",
    "img = CustomImage(1500, 1500)\n",
    "deer_obj.rotate((math.pi, math.pi / 4, 0))\n",
    "deer_obj.shift((0, 700, 10000))\n",
    "draw_faces(deer_obj, img, (7000, 7000))\n",
    "img.save('pictures/faces/deer_angle.png')\n",
    "\n",
    "img = CustomImage(1000, 1000)\n",
    "rabbit_obj.rotate((math.pi, 0, 0))\n",
    "rabbit_obj.shift((0.005, 0.045, 15.0))\n",
    "draw_faces(rabbit_obj, img, (100000, 100000))\n",
    "img.save('pictures/faces/rabbit_angle.png')"
   ],
   "metadata": {
    "collapsed": false,
    "pycharm": {
     "name": "#%%\n"
    }
   }
  }
 ],
 "metadata": {
  "kernelspec": {
   "display_name": "Python 3",
   "language": "python",
   "name": "python3"
  },
  "language_info": {
   "codemirror_mode": {
    "name": "ipython",
    "version": 2
   },
   "file_extension": ".py",
   "mimetype": "text/x-python",
   "name": "python",
   "nbconvert_exporter": "python",
   "pygments_lexer": "ipython2",
   "version": "2.7.6"
  }
 },
 "nbformat": 4,
 "nbformat_minor": 0
}