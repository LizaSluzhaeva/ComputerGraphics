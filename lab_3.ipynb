{
 "cells": [
  {
   "cell_type": "markdown",
   "metadata": {
    "collapsed": true,
    "pycharm": {
     "name": "#%% md\n"
    }
   },
   "source": [
    "Проективное преобразование\n"
   ]
  },
  {
   "cell_type": "code",
   "execution_count": 24,
   "outputs": [],
   "source": [
    "from sys import float_info\n",
    "from core import CustomImage, ObjModel, face_angle_cos, barisentrik_coordinates\n",
    "from names import FOX, DEER\n",
    "\n",
    "\n",
    "def draw_visible_faces(obj: ObjModel, _img: CustomImage, scale: tuple[float, float], shift: tuple[float, float, float]):\n",
    "    z_buffer = [[float_info.max for _ in range(_img.width())] for _ in range(_img.height())]\n",
    "    img_x, img_y = _img.width() / 2, _img.height() / 2\n",
    "    ax, ay = scale\n",
    "    tx, ty, tz = shift\n",
    "    for f in obj.faces():\n",
    "        v0, v1, v2 = f\n",
    "\n",
    "        x0, y0, z0 = v0\n",
    "        x1, y1, z1 = v1\n",
    "        x2, y2, z2 = v2\n",
    "\n",
    "        v0 = ax * (x0 + tx) + img_x * (z0 + tz), ay * (y0 + ty) + img_y * (z0 + tz), z0 + tz\n",
    "        v1 = ax * (x1 + tx) + img_x * (z1 + tz), ay * (y1 + ty) + img_y * (z1 + tz), z0 + tz\n",
    "        v2 = ax * (x2 + tx) + img_x * (z2 + tz), ay * (y2 + ty) + img_y * (z2 + tz), z0 + tz\n",
    "\n",
    "        f = v0, v1, v2\n",
    "\n",
    "        cos = face_angle_cos(f)\n",
    "        if cos >= 0:\n",
    "            continue\n",
    "\n",
    "        v0 = x0, y0\n",
    "        v1 = x1, y1\n",
    "        v2 = x2, y2\n",
    "\n",
    "        val = round(255 * -cos)\n",
    "        color = (val, val, val)\n",
    "\n",
    "        x_min = round(max(min(x0, x1, x2), 0))\n",
    "        y_min = round(max(min(y0, y1, y2), 0))\n",
    "        x_max = round(min(max(x0, x1, x2), _img.width() - 1))\n",
    "        y_max = round(min(max(y0, y1, y2), _img.height() - 1))\n",
    "\n",
    "        for i in range(x_min, x_max + 1):\n",
    "            for j in range(y_min, y_max + 1):\n",
    "                v = (i, j)\n",
    "                l0, l1, l2 = barisentrik_coordinates(v, v0, v1, v2)\n",
    "                if l0 > 0 and l1 > 0 and l2 > 0:\n",
    "                    z = l0 * z0 + l1 * z1 + l2 * z2\n",
    "                    if z < z_buffer[i][j]:\n",
    "                        _img.set(v, color)\n",
    "                        z_buffer[i][j] = z\n",
    "\n",
    "\n",
    "t = 1, -2, 15.0\n",
    "\n",
    "fox_obj = ObjModel(FOX)\n",
    "deer_obj = ObjModel(DEER)\n",
    "\n",
    "img = CustomImage(1000, 1000)\n",
    "draw_visible_faces(fox_obj, img, (1000, 1000), t)\n",
    "img.save('pictures/faces/fox_projection.png')\n",
    "\n",
    "img = CustomImage(1500, 1500)\n",
    "draw_visible_faces(deer_obj, img, (10, 10), t)\n",
    "img.save('pictures/faces/deer_projection.png')"
   ],
   "metadata": {
    "collapsed": false,
    "pycharm": {
     "name": "#%%\n"
    }
   }
  }
 ],
 "metadata": {
  "kernelspec": {
   "display_name": "Python 3",
   "language": "python",
   "name": "python3"
  },
  "language_info": {
   "codemirror_mode": {
    "name": "ipython",
    "version": 2
   },
   "file_extension": ".py",
   "mimetype": "text/x-python",
   "name": "python",
   "nbconvert_exporter": "python",
   "pygments_lexer": "ipython2",
   "version": "2.7.6"
  }
 },
 "nbformat": 4,
 "nbformat_minor": 0
}