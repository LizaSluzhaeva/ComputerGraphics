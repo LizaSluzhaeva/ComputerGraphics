{
 "cells": [
  {
   "cell_type": "markdown",
   "metadata": {
    "collapsed": true,
    "pycharm": {
     "name": "#%% md\n"
    }
   },
   "source": [
    "Проективное преобразование\n"
   ]
  },
  {
   "cell_type": "code",
   "execution_count": 4,
   "outputs": [],
   "source": [
    "from names import WHITE, DEER, RABBIT, FOX, STORM_TROOPER\n",
    "from type import Scale\n",
    "from core import ObjModel, CustomImage, init_z_buffer, face_angle_cos, intensity_color, adapt_triangle_to_image, suitable_pixels, barisentrik_coordinates\n",
    "\n",
    "\n",
    "def draw_faces(obj: ObjModel, _img: CustomImage, scale: Scale):\n",
    "    z_buffer = init_z_buffer(_img)\n",
    "\n",
    "    for f in obj.faces():\n",
    "        cos = face_angle_cos(f)\n",
    "        if cos > 0:\n",
    "            continue\n",
    "\n",
    "        color = intensity_color(WHITE, cos)\n",
    "\n",
    "        z0, z1, z2 = f[0][2], f[1][2], f[2][2]\n",
    "        f = adapt_triangle_to_image(f, _img, scale)\n",
    "\n",
    "        for v in suitable_pixels(f, _img):\n",
    "            i, j = v\n",
    "            l0, l1, l2 = barisentrik_coordinates(v, f)\n",
    "            if l0 >= 0 and l1 >= 0 and l2 >= 0:\n",
    "                z = l0 * z0 + l1 * z1 + l2 * z2\n",
    "                if z < z_buffer[i][j]:\n",
    "                    z_buffer[i][j] = z\n",
    "                    _img.set(v, color)\n",
    "\n",
    "\n",
    "deer_obj = ObjModel(DEER)\n",
    "rabbit_obj = ObjModel(RABBIT)\n",
    "fox_obj = ObjModel(FOX)\n",
    "storm_trooper_obj = ObjModel(STORM_TROOPER)\n",
    "\n",
    "img = CustomImage(1500, 1500)\n",
    "deer_obj.shift((0, -800, 1000))\n",
    "draw_faces(deer_obj, img, (700, 700))\n",
    "img.save('pictures/faces/deer_projection.png')\n",
    "\n",
    "img = CustomImage(1000, 1000)\n",
    "rabbit_obj.shift((0.005, -0.045, 15.0))\n",
    "draw_faces(rabbit_obj, img, (100000, 100000))\n",
    "img.save('pictures/faces/rabbit_projection.png')\n",
    "\n",
    "img = CustomImage(1000, 800)\n",
    "fox_obj.shift((0, -40, 1000))\n",
    "draw_faces(fox_obj, img, (6000, 6000))\n",
    "img.save('pictures/faces/fox_projection.png')\n",
    "\n",
    "img = CustomImage(1500, 1500)\n",
    "storm_trooper_obj.shift((0, 0, 100))\n",
    "draw_faces(storm_trooper_obj, img, (30000, 30000))\n",
    "img.save('pictures/faces/storm_trooper_projection.png')"
   ],
   "metadata": {
    "collapsed": false,
    "pycharm": {
     "name": "#%%\n"
    }
   }
  },
  {
   "cell_type": "markdown",
   "source": [
    "Поворот модели"
   ],
   "metadata": {
    "collapsed": false,
    "pycharm": {
     "name": "#%% md\n"
    }
   }
  },
  {
   "cell_type": "code",
   "execution_count": 8,
   "outputs": [],
   "source": [
    "import math\n",
    "from names import WHITE, DEER, RABBIT, FOX, STORM_TROOPER\n",
    "from type import Scale\n",
    "from core import ObjModel, CustomImage, init_z_buffer, face_angle_cos, intensity_color, adapt_triangle_to_image, suitable_pixels, barisentrik_coordinates\n",
    "\n",
    "\n",
    "def draw_faces(obj: ObjModel, _img: CustomImage, scale: Scale):\n",
    "    z_buffer = init_z_buffer(_img)\n",
    "\n",
    "    for f in obj.faces():\n",
    "        cos = face_angle_cos(f)\n",
    "        if cos > 0:\n",
    "            continue\n",
    "\n",
    "        color = intensity_color(WHITE, cos)\n",
    "\n",
    "        z0, z1, z2 = f[0][2], f[1][2], f[2][2]\n",
    "        f = adapt_triangle_to_image(f, _img, scale)\n",
    "\n",
    "        for v in suitable_pixels(f, _img):\n",
    "            i, j = v\n",
    "            l0, l1, l2 = barisentrik_coordinates(v, f)\n",
    "            if l0 >= 0 and l1 >= 0 and l2 >= 0:\n",
    "                z = l0 * z0 + l1 * z1 + l2 * z2\n",
    "                if z < z_buffer[i][j]:\n",
    "                    z_buffer[i][j] = z\n",
    "                    _img.set(v, color)\n",
    "\n",
    "\n",
    "deer_obj = ObjModel(DEER)\n",
    "rabbit_obj = ObjModel(RABBIT)\n",
    "fox_obj = ObjModel(FOX)\n",
    "storm_trooper_obj = ObjModel(STORM_TROOPER)\n",
    "\n",
    "img = CustomImage(1500, 1500)\n",
    "deer_obj.rotate((math.pi, 0, 0))\n",
    "deer_obj.shift((0, 800, 1000))\n",
    "draw_faces(deer_obj, img, (700, 700))\n",
    "img.save('pictures/faces/deer_angle.png')\n",
    "\n",
    "img = CustomImage(1000, 1000)\n",
    "rabbit_obj.rotate((math.pi, 0, 0))\n",
    "rabbit_obj.shift((0.005, 0.045, 15.0))\n",
    "draw_faces(rabbit_obj, img, (100000, 100000))\n",
    "img.save('pictures/faces/rabbit_angle.png')\n",
    "\n",
    "img = CustomImage(1200, 800)\n",
    "fox_obj.rotate((math.pi, math.pi / 2, 0))\n",
    "fox_obj.shift((0, 40, 1000))\n",
    "draw_faces(fox_obj, img, (6000, 6000))\n",
    "img.save('pictures/faces/fox_angle.png')\n",
    "\n",
    "img = CustomImage(1500, 1500)\n",
    "storm_trooper_obj.rotate((math.pi, 0, 0))\n",
    "storm_trooper_obj.shift((0, 0, 100))\n",
    "draw_faces(storm_trooper_obj, img, (30000, 30000))\n",
    "img.save('pictures/faces/storm_trooper_angle.png')"
   ],
   "metadata": {
    "collapsed": false,
    "pycharm": {
     "name": "#%%\n"
    }
   }
  }
 ],
 "metadata": {
  "kernelspec": {
   "display_name": "Python 3",
   "language": "python",
   "name": "python3"
  },
  "language_info": {
   "codemirror_mode": {
    "name": "ipython",
    "version": 2
   },
   "file_extension": ".py",
   "mimetype": "text/x-python",
   "name": "python",
   "nbconvert_exporter": "python",
   "pygments_lexer": "ipython2",
   "version": "2.7.6"
  }
 },
 "nbformat": 4,
 "nbformat_minor": 0
}