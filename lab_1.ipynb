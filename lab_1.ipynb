{
 "cells": [
  {
   "cell_type": "markdown",
   "source": [
    "Создание черного одноканального изображения 500*600."
   ],
   "metadata": {
    "collapsed": false
   },
   "outputs": []
  },
  {
   "cell_type": "code",
   "execution_count": 1,
   "metadata": {
    "collapsed": true
   },
   "outputs": [],
   "source": [
    "import numpy as np\n",
    "from PIL import Image\n",
    "\n",
    "data = np.zeros((500, 600), dtype='|u1')\n",
    "img = Image.fromarray(data)\n",
    "img.save('pictures/colors/black.png')"
   ]
  },
  {
   "cell_type": "markdown",
   "source": [
    "Создание белого одноканального изображения 500*600."
   ],
   "metadata": {
    "collapsed": false,
    "pycharm": {
     "name": "#%% md\n"
    }
   }
  },
  {
   "cell_type": "code",
   "execution_count": 2,
   "outputs": [],
   "source": [
    "import numpy as np\n",
    "from PIL import Image\n",
    "\n",
    "data = np.full((500, 600), 255, dtype='|u1')\n",
    "img = Image.fromarray(data)\n",
    "img.save('pictures/colors/white.png')"
   ],
   "metadata": {
    "collapsed": false,
    "pycharm": {
     "name": "#%%\n"
    }
   }
  },
  {
   "cell_type": "markdown",
   "source": [
    "Создание красного RGB изображения 500*600.\n",
    "Используется собственная обертка в `main.py`."
   ],
   "metadata": {
    "collapsed": false
   }
  },
  {
   "cell_type": "code",
   "execution_count": 3,
   "outputs": [],
   "source": [
    "from core import CustomImage\n",
    "from names import RED\n",
    "\n",
    "img = CustomImage(600, 500)\n",
    "img.fill(RED)\n",
    "img.save('pictures/colors/red.png')"
   ],
   "metadata": {
    "collapsed": false,
    "pycharm": {
     "name": "#%%\n"
    }
   }
  },
  {
   "cell_type": "markdown",
   "source": [
    "Создание градиентного RGB изображения 500*600."
   ],
   "metadata": {
    "collapsed": false
   }
  },
  {
   "cell_type": "code",
   "execution_count": 4,
   "outputs": [],
   "source": [
    "from core import CustomImage\n",
    "\n",
    "width = 600\n",
    "height = 500\n",
    "img = CustomImage(width, height)\n",
    "for i in range(width):\n",
    "    for j in range(height):\n",
    "        val = (i + j) % 256\n",
    "        img.set((i, j), (val, val, val))\n",
    "img.save('pictures/colors/gradient.png')"
   ],
   "metadata": {
    "collapsed": false,
    "pycharm": {
     "name": "#%%\n"
    }
   }
  },
  {
   "cell_type": "markdown",
   "source": [
    "Построение простейшей прямой (1 алгоритм)"
   ],
   "metadata": {
    "collapsed": false
   }
  },
  {
   "cell_type": "code",
   "execution_count": 5,
   "outputs": [],
   "source": [
    "from core import CustomImage\n",
    "from utils import float_range, star\n",
    "from names import WHITE\n",
    "from type import Color, ImageVertex\n",
    "\n",
    "\n",
    "def line(v0: ImageVertex, v1: ImageVertex, image: CustomImage, color: Color):\n",
    "    x0, y0 = v0\n",
    "    x1, y1 = v1\n",
    "    for t in float_range(0, 1, 0.01, 8):\n",
    "        x = x0 * (1.0 - t) + x1 * t\n",
    "        y = y0 * (1.0 - t) + y1 * t\n",
    "        image.set((round(x), round(y)), color)\n",
    "\n",
    "\n",
    "img = star(line, WHITE)\n",
    "img.save('pictures/lines/line_1.png')"
   ],
   "metadata": {
    "collapsed": false,
    "pycharm": {
     "name": "#%%\n"
    }
   }
  },
  {
   "cell_type": "markdown",
   "source": [
    "Второй вариант построения прямой (2 алгоритм)"
   ],
   "metadata": {
    "collapsed": false,
    "pycharm": {
     "name": "#%% md\n"
    }
   }
  },
  {
   "cell_type": "code",
   "execution_count": 6,
   "outputs": [],
   "source": [
    "from core import CustomImage\n",
    "from utils import star\n",
    "from names import WHITE\n",
    "from type import Color\n",
    "\n",
    "\n",
    "def line(v0: ImageVertex, v1: ImageVertex, image: CustomImage, color: Color):\n",
    "    x0, y0 = v0\n",
    "    x1, y1 = v1\n",
    "    for x in range(x0, x1, 1):\n",
    "        t = (x - x0) / float(x1 - x0)\n",
    "        y = y0 * (1.0 - t) + y1 * t\n",
    "        image.set((round(x), round(y)), color)\n",
    "\n",
    "\n",
    "img = star(line, WHITE)\n",
    "img.save('pictures/lines/line_2.png')"
   ],
   "metadata": {
    "collapsed": false,
    "pycharm": {
     "name": "#%%\n"
    }
   }
  },
  {
   "cell_type": "markdown",
   "source": [
    "Третий вариант построения прямой (3 алгоритм)"
   ],
   "metadata": {
    "collapsed": false,
    "pycharm": {
     "name": "#%% md\n"
    }
   }
  },
  {
   "cell_type": "code",
   "execution_count": 7,
   "outputs": [],
   "source": [
    "from core import CustomImage\n",
    "from utils import star\n",
    "from names import WHITE\n",
    "from type import Color\n",
    "\n",
    "\n",
    "def line(v0: ImageVertex, v1: ImageVertex, image: CustomImage, color: Color):\n",
    "    x0, y0 = v0\n",
    "    x1, y1 = v1\n",
    "    steep = False\n",
    "    if abs(x0 - x1) < abs(y0 - y1):\n",
    "        x0, y0 = y0, x0\n",
    "        x1, y1 = y1, x1\n",
    "        steep = True\n",
    "    if x0 > x1:\n",
    "        x0, x1 = x1, x0\n",
    "        y0, y1 = y1, y0\n",
    "    for x in range(x0, x1, 1):\n",
    "        t = (x - x0) / float(x1 - x0)\n",
    "        y = y0 * (1. - t) + y1 * t\n",
    "        if steep:\n",
    "            image.set((round(y), round(x)), color)\n",
    "        else:\n",
    "            image.set((round(x), round(y)), color)\n",
    "\n",
    "\n",
    "img = star(line, WHITE)\n",
    "img.save('pictures/lines/line_3.png')"
   ],
   "metadata": {
    "collapsed": false,
    "pycharm": {
     "name": "#%%\n"
    }
   }
  },
  {
   "cell_type": "markdown",
   "source": [
    "Четвертый вариант построения прямой (Алгоритм Брезенхема)"
   ],
   "metadata": {
    "collapsed": false,
    "pycharm": {
     "name": "#%% md\n"
    }
   }
  },
  {
   "cell_type": "code",
   "execution_count": 8,
   "outputs": [],
   "source": [
    "from core import CustomImage\n",
    "from utils import star\n",
    "from names import WHITE\n",
    "\n",
    "\n",
    "def line(v0: ImageVertex, v1: ImageVertex, image: CustomImage, color: Color):\n",
    "    image.line(v0, v1, color)\n",
    "\n",
    "\n",
    "img = star(line, WHITE)\n",
    "img.save('pictures/lines/line_4.png')"
   ],
   "metadata": {
    "collapsed": false,
    "pycharm": {
     "name": "#%%\n"
    }
   }
  },
  {
   "cell_type": "markdown",
   "source": [
    "Отрисовка вершин трехмерной модели."
   ],
   "metadata": {
    "collapsed": false
   }
  },
  {
   "cell_type": "code",
   "execution_count": 9,
   "outputs": [],
   "source": [
    "from type import ObjVertex\n",
    "from typing import Callable\n",
    "from core import CustomImage, ObjModel\n",
    "from names import WHITE, FOX, DEER\n",
    "\n",
    "fox_obj = ObjModel(FOX)\n",
    "deer_obj = ObjModel(DEER)\n",
    "\n",
    "def draw_vertices(obj: ObjModel, _img: CustomImage, color: Color, transformation: Callable[[ObjVertex], ImageVertex]):\n",
    "    for v in obj.vertices():\n",
    "        _img.set(transformation(v), color)\n",
    "\n",
    "transformations = [\n",
    "    lambda v: (round(50 * v[0] + 500), round(50 * v[1] + 500)),\n",
    "    lambda v: (round(100 * v[0] + 500), round(100 * v[1] + 500)),\n",
    "    lambda v: (round(500 * v[0] + 500), round(500 * v[1] + 500)),\n",
    "    lambda v: (round(4000 * v[0] + 500), round(4000 * v[1] + 500)),\n",
    "]\n",
    "\n",
    "for i, transform in enumerate(transformations):\n",
    "    img = CustomImage(1000, 1000)\n",
    "    draw_vertices(fox_obj, img, WHITE, transform)\n",
    "    img.save(f'pictures/vertices/fox_{i + 1}.png')\n",
    "\n",
    "for i, transform in enumerate(transformations):\n",
    "    img = CustomImage(1000, 1000)\n",
    "    draw_vertices(deer_obj, img, WHITE, transform)\n",
    "    img.save(f'pictures/vertices/deer_{i + 1}.png')"
   ],
   "metadata": {
    "collapsed": false,
    "pycharm": {
     "name": "#%%\n"
    }
   }
  },
  {
   "cell_type": "markdown",
   "source": [
    "Отрисовка ребер трехмерной модели."
   ],
   "metadata": {
    "collapsed": false
   }
  },
  {
   "cell_type": "code",
   "execution_count": 10,
   "outputs": [],
   "source": [
    "from typing import Callable\n",
    "from type import ObjVertex\n",
    "from core import CustomImage, ObjModel\n",
    "from names import WHITE, FOX, DEER\n",
    "\n",
    "fox_obj = ObjModel(FOX)\n",
    "deer_obj = ObjModel(DEER)\n",
    "\n",
    "def draw_all_faces(obj: ObjModel, _img: CustomImage, color: Color, transformation: Callable[[ObjVertex], ImageVertex]):\n",
    "    for v0, v1, v2 in obj.faces():\n",
    "        v0 = transformation(v0)\n",
    "        v1 = transformation(v1)\n",
    "        v2 = transformation(v2)\n",
    "        _img.line(v0, v1, color)\n",
    "        _img.line(v1, v2, color)\n",
    "        _img.line(v0, v2, color)\n",
    "\n",
    "img = CustomImage(1000, 1000)\n",
    "draw_all_faces(fox_obj, img, WHITE, lambda v: (4 * round(v[2]) + 500, 4 * -round(v[1]) + 500))\n",
    "img.save('pictures/faces/fox_wire.png')\n",
    "\n",
    "img = CustomImage(1500, 1500)\n",
    "draw_all_faces(deer_obj, img, WHITE, lambda v: (round(v[0]) + 800, -round(v[1]) + 1500))\n",
    "img.save('pictures/faces/deer_wire.png')"
   ],
   "metadata": {
    "collapsed": false,
    "pycharm": {
     "name": "#%%\n"
    }
   }
  }
 ],
 "metadata": {
  "kernelspec": {
   "display_name": "Python 3",
   "language": "python",
   "name": "python3"
  },
  "language_info": {
   "codemirror_mode": {
    "name": "ipython",
    "version": 2
   },
   "file_extension": ".py",
   "mimetype": "text/x-python",
   "name": "python",
   "nbconvert_exporter": "python",
   "pygments_lexer": "ipython2",
   "version": "2.7.6"
  }
 },
 "nbformat": 4,
 "nbformat_minor": 0
}